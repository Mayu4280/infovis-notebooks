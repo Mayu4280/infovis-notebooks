{
 "cells": [
  {
   "cell_type": "markdown",
   "id": "6f5d2ce1",
   "metadata": {},
   "source": [
    "# Pythonの復習"
   ]
  },
  {
   "cell_type": "markdown",
   "id": "e48d0411",
   "metadata": {},
   "source": [
    "## 関数を使う"
   ]
  },
  {
   "cell_type": "markdown",
   "id": "d10fad47",
   "metadata": {},
   "source": [
    "先週練習したPythonの復習をします。\n",
    "\n",
    "まずは、**関数** の書き方を説明します。\n",
    "\n",
    "関数は、さまざまなケースに対して同じ処理を行うための機能です。たとえば、Aさん、Bさん、Cさんに対してBMIを計算する、などの場面で使うことができます。\n",
    "\n",
    "変数と同じく、関数もまず定義してから、後でそれを利用します。"
   ]
  },
  {
   "cell_type": "code",
   "execution_count": 1,
   "id": "460389d5",
   "metadata": {},
   "outputs": [],
   "source": [
    "def bmi(height, weight):\n",
    "    return weight / height ** 2"
   ]
  },
  {
   "cell_type": "code",
   "execution_count": 2,
   "id": "59c5e700",
   "metadata": {},
   "outputs": [
    {
     "data": {
      "text/plain": [
       "22.49134948096886"
      ]
     },
     "execution_count": 2,
     "metadata": {},
     "output_type": "execute_result"
    }
   ],
   "source": [
    "bmi(1.70, 65)"
   ]
  },
  {
   "cell_type": "code",
   "execution_count": 3,
   "id": "a5f723d6",
   "metadata": {},
   "outputs": [
    {
     "data": {
      "text/plain": [
       "20.061728395061728"
      ]
     },
     "execution_count": 3,
     "metadata": {},
     "output_type": "execute_result"
    }
   ],
   "source": [
    "bmi(1.80, 65)"
   ]
  },
  {
   "cell_type": "markdown",
   "id": "02b9c81b",
   "metadata": {},
   "source": [
    "【演習】（再掲）\n",
    "\n",
    "引数x, y, zを受け取り「x時のyはz」という文字列を返す関数を実装せよ。さらに、x=12, y=\"気温\", z=22.4として、実行結果を確認せよ。"
   ]
  },
  {
   "cell_type": "code",
   "execution_count": 1,
   "id": "a7fd596a",
   "metadata": {},
   "outputs": [
    {
     "name": "stdout",
     "output_type": "stream",
     "text": [
      "12時の気温は22.4\n"
     ]
    }
   ],
   "source": [
    "# your code goes here\n",
    "def temperature(x, y, z):\n",
    "    return f\"{x}時の{y}は{z}\"\n",
    "x = 12\n",
    "y = \"気温\"\n",
    "z = 22.4\n",
    "new_function= temperature(x, y, z)\n",
    "print(new_function)"
   ]
  },
  {
   "cell_type": "markdown",
   "id": "530ffb75",
   "metadata": {},
   "source": [
    "## 復習問題\n",
    "\n",
    "参考：[前回の演習](../exercise_5/intro-to-python-jupyter.ipynb)\n",
    "\n",
    "下記内容と前回の演習内容を参考にしながら、演習を解いてください。"
   ]
  },
  {
   "cell_type": "markdown",
   "id": "ce04870e",
   "metadata": {},
   "source": [
    "5人の生徒の数学の点数をまとめたリストAと、英語の点数をまとめたリストBがあります。"
   ]
  },
  {
   "cell_type": "code",
   "execution_count": 2,
   "id": "8fd870ce",
   "metadata": {},
   "outputs": [],
   "source": [
    "A = [80, 59, 64, 97, 89]\n",
    "B = [30, 70, 90, 94, 89]"
   ]
  },
  {
   "cell_type": "markdown",
   "id": "77221b14",
   "metadata": {},
   "source": [
    "それぞれの科目の合計点を求める関数`total`は次のように書けます。"
   ]
  },
  {
   "cell_type": "code",
   "execution_count": 3,
   "id": "700e4fdf",
   "metadata": {},
   "outputs": [],
   "source": [
    "def total(scores):\n",
    "    s = 0\n",
    "    for score in scores:\n",
    "        s = s + score\n",
    "    return s"
   ]
  },
  {
   "cell_type": "markdown",
   "id": "2b105e51",
   "metadata": {},
   "source": [
    "【演習】\n",
    "\n",
    "`total`を使って、リストAとリストBの合計をそれぞれ求めてください。また、組み込み関数`sum`と同じ結果になることを確認してください。"
   ]
  },
  {
   "cell_type": "code",
   "execution_count": 4,
   "id": "a2a460c1",
   "metadata": {},
   "outputs": [
    {
     "data": {
      "text/plain": [
       "389"
      ]
     },
     "execution_count": 4,
     "metadata": {},
     "output_type": "execute_result"
    }
   ],
   "source": [
    "# your code goes here\n",
    "total(A)"
   ]
  },
  {
   "cell_type": "code",
   "execution_count": 5,
   "id": "0ad9ce42",
   "metadata": {},
   "outputs": [
    {
     "data": {
      "text/plain": [
       "373"
      ]
     },
     "execution_count": 5,
     "metadata": {},
     "output_type": "execute_result"
    }
   ],
   "source": [
    "total(B)"
   ]
  },
  {
   "cell_type": "code",
   "execution_count": 6,
   "id": "d6516206",
   "metadata": {},
   "outputs": [
    {
     "data": {
      "text/plain": [
       "389"
      ]
     },
     "execution_count": 6,
     "metadata": {},
     "output_type": "execute_result"
    }
   ],
   "source": [
    "sum(A)"
   ]
  },
  {
   "cell_type": "code",
   "execution_count": 7,
   "id": "f859acaf",
   "metadata": {},
   "outputs": [
    {
     "data": {
      "text/plain": [
       "373"
      ]
     },
     "execution_count": 7,
     "metadata": {},
     "output_type": "execute_result"
    }
   ],
   "source": [
    "sum(B)"
   ]
  },
  {
   "cell_type": "markdown",
   "id": "f3197a1b",
   "metadata": {},
   "source": [
    "【演習】\n",
    "\n",
    "それぞれの科目の平均点を求める関数`average`を書いてください。"
   ]
  },
  {
   "cell_type": "code",
   "execution_count": 8,
   "id": "e181fa40",
   "metadata": {},
   "outputs": [],
   "source": [
    "# your code goes here\n",
    "def average(scores):\n",
    "    if not scores:  # 空のリストが渡された場合\n",
    "        return 0\n",
    "    return sum(scores) / len(scores)"
   ]
  },
  {
   "cell_type": "markdown",
   "id": "bfec8e9c",
   "metadata": {},
   "source": [
    "ところで、与えられた2つの数字のうち、大きい方を返す関数`larger`を次のように定義します。"
   ]
  },
  {
   "cell_type": "code",
   "execution_count": 9,
   "id": "3c0d09aa",
   "metadata": {},
   "outputs": [],
   "source": [
    "def larger(a, b):\n",
    "    if a > b:\n",
    "        return a\n",
    "    else:\n",
    "        return b"
   ]
  },
  {
   "cell_type": "markdown",
   "id": "dbcf9657",
   "metadata": {},
   "source": [
    "これを利用すると、それぞれの科目の最高点を求める関数`maximum`は次のように書けます。"
   ]
  },
  {
   "cell_type": "code",
   "execution_count": null,
   "id": "834e8109",
   "metadata": {},
   "outputs": [],
   "source": [
    "def maximum(scores):\n",
    "    m = scores[0] #mにscoresの0番目の要素の値を代入\n",
    "    for i in range(1, len(scores)): #リストの任意のi番目の要素がscoresの中に存在\n",
    "        m = larger(m, scores[i]) #mをi番目の要素の値と比較\n",
    "    return m #mがi番目の要素の値より大きかったらmを返す"
   ]
  },
  {
   "cell_type": "markdown",
   "id": "b8790e70",
   "metadata": {},
   "source": [
    "【演習】\n",
    "\n",
    "`maximum`を使って、リストAとリストBの最高点をそれぞれ求めてください。また、組み込み関数`max`と同じ結果になることを確認してください。"
   ]
  },
  {
   "cell_type": "code",
   "execution_count": 11,
   "id": "3843241f",
   "metadata": {},
   "outputs": [
    {
     "data": {
      "text/plain": [
       "97"
      ]
     },
     "execution_count": 11,
     "metadata": {},
     "output_type": "execute_result"
    }
   ],
   "source": [
    "# your code goes here\n",
    "maximum(A)"
   ]
  },
  {
   "cell_type": "code",
   "execution_count": 12,
   "id": "bff90aa2",
   "metadata": {},
   "outputs": [
    {
     "data": {
      "text/plain": [
       "94"
      ]
     },
     "execution_count": 12,
     "metadata": {},
     "output_type": "execute_result"
    }
   ],
   "source": [
    "maximum(B)"
   ]
  },
  {
   "cell_type": "code",
   "execution_count": 13,
   "id": "e0fc704c",
   "metadata": {},
   "outputs": [
    {
     "data": {
      "text/plain": [
       "97"
      ]
     },
     "execution_count": 13,
     "metadata": {},
     "output_type": "execute_result"
    }
   ],
   "source": [
    "max(A)"
   ]
  },
  {
   "cell_type": "code",
   "execution_count": 14,
   "id": "46041445",
   "metadata": {},
   "outputs": [
    {
     "data": {
      "text/plain": [
       "94"
      ]
     },
     "execution_count": 14,
     "metadata": {},
     "output_type": "execute_result"
    }
   ],
   "source": [
    "max(B)"
   ]
  },
  {
   "cell_type": "markdown",
   "id": "6a60fc16",
   "metadata": {},
   "source": [
    "【演習】\n",
    "\n",
    "それぞれの科目の最低点を求める関数`minimum`を書いてください。"
   ]
  },
  {
   "cell_type": "code",
   "execution_count": 16,
   "id": "e7ef96c9",
   "metadata": {},
   "outputs": [],
   "source": [
    "# your code goes here\n",
    "def smaller(a, b):\n",
    "    if a > b:\n",
    "        return b\n",
    "    else:\n",
    "        return a\n",
    "\n",
    "def minimum(scores):\n",
    "    mini = scores[0] \n",
    "    for i in range(1, len(scores)): \n",
    "        mini = smaller(m, scores[i]) \n",
    "    return mini "
   ]
  },
  {
   "cell_type": "markdown",
   "id": "efb8941a-7af9-47ad-aacf-d928ad46d571",
   "metadata": {},
   "source": [
    "---"
   ]
  },
  {
   "cell_type": "markdown",
   "id": "9bd00c21",
   "metadata": {},
   "source": [
    "【演習】\n",
    "\n",
    "任意のリストに対して、最大値のインデックスを返す関数`maxind`を書いてください。最大値が複数ある場合、最も先頭に近いものの位置を返します。以下は実行例です。\n",
    "\n",
    "```\n",
    "> maxind([4, 1, 2, 9, 6, 9])\n",
    "3\n",
    "```"
   ]
  },
  {
   "cell_type": "code",
   "execution_count": 18,
   "id": "d2c17f98",
   "metadata": {},
   "outputs": [
    {
     "data": {
      "text/plain": [
       "3"
      ]
     },
     "execution_count": 18,
     "metadata": {},
     "output_type": "execute_result"
    }
   ],
   "source": [
    "# your code goes here\n",
    "def maxind(numbers):\n",
    "    if not numbers:  # リストが空の場合\n",
    "        return None  # 空リストの場合はNoneを返す\n",
    "    \n",
    "    max_value = max(numbers)  # 最大値を取得\n",
    "    return numbers.index(max_value)  # 最大値の最初のインデックスを返す\n",
    "maxind([4, 1, 2, 9, 6, 9])"
   ]
  },
  {
   "cell_type": "markdown",
   "id": "07e81768",
   "metadata": {},
   "source": [
    "【演習】\n",
    "\n",
    "任意のリストの各要素の絶対値の和を求める関数`absum`を書いてください。以下は実行例です。\n",
    "\n",
    "```\n",
    "> absum([-2, 1, 6, -5])\n",
    "14\n",
    "```"
   ]
  },
  {
   "cell_type": "code",
   "execution_count": 20,
   "id": "6f1731db",
   "metadata": {},
   "outputs": [
    {
     "data": {
      "text/plain": [
       "14"
      ]
     },
     "execution_count": 20,
     "metadata": {},
     "output_type": "execute_result"
    }
   ],
   "source": [
    "# your code goes here\n",
    "def absum(numbers):\n",
    "    return sum(abs(num) for num in numbers)\n",
    "absum([-2, 1, 6, -5])\n"
   ]
  },
  {
   "cell_type": "markdown",
   "id": "cb15e7e6-2ac6-4950-b0bf-997ff75f9e1b",
   "metadata": {},
   "source": [
    "---"
   ]
  },
  {
   "cell_type": "markdown",
   "id": "a0cbad0d",
   "metadata": {},
   "source": [
    "【演習】\n",
    "\n",
    "10進数の各桁が要素となったリストが与えられたとき、これを数値に戻す関数`digit`を書いてください。以下は実行例です。\n",
    "\n",
    "```\n",
    "> digit([])\n",
    "0\n",
    "\n",
    "> digit([6])\n",
    "6\n",
    "\n",
    "> digit([6, 3])\n",
    "63\n",
    "\n",
    "> digit([6, 3, 4])\n",
    "634\n",
    "```"
   ]
  },
  {
   "cell_type": "code",
   "execution_count": 22,
   "id": "780a1a7d",
   "metadata": {},
   "outputs": [
    {
     "data": {
      "text/plain": [
       "634"
      ]
     },
     "execution_count": 22,
     "metadata": {},
     "output_type": "execute_result"
    }
   ],
   "source": [
    "# your code goes here\n",
    "def digit(digits):\n",
    "    return int(''.join(map(str, digits))) #map(str, digits)でリストdigitsの各要素を文字列に変換、''.join()で1つの文字列に結合、intで文字列を数字に直す\n",
    "digit([6,3,4])"
   ]
  },
  {
   "cell_type": "markdown",
   "id": "29fbe5d7",
   "metadata": {},
   "source": [
    "---\n",
    "この演習は以上です。\n"
   ]
  }
 ],
 "metadata": {
  "kernelspec": {
   "display_name": ".venv",
   "language": "python",
   "name": "python3"
  },
  "language_info": {
   "codemirror_mode": {
    "name": "ipython",
    "version": 3
   },
   "file_extension": ".py",
   "mimetype": "text/x-python",
   "name": "python",
   "nbconvert_exporter": "python",
   "pygments_lexer": "ipython3",
   "version": "3.12.3"
  }
 },
 "nbformat": 4,
 "nbformat_minor": 5
}
